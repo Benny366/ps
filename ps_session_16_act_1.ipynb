{
  "nbformat": 4,
  "nbformat_minor": 0,
  "metadata": {
    "colab": {
      "provenance": [],
      "authorship_tag": "ABX9TyPtKHXbTkzo++v0J2YtBTMM",
      "include_colab_link": true
    },
    "kernelspec": {
      "name": "python3",
      "display_name": "Python 3"
    },
    "language_info": {
      "name": "python"
    }
  },
  "cells": [
    {
      "cell_type": "markdown",
      "metadata": {
        "id": "view-in-github",
        "colab_type": "text"
      },
      "source": [
        "<a href=\"https://colab.research.google.com/github/Benny366/ps/blob/main/ps_session_16_act_1.ipynb\" target=\"_parent\"><img src=\"https://colab.research.google.com/assets/colab-badge.svg\" alt=\"Open In Colab\"/></a>"
      ]
    },
    {
      "cell_type": "code",
      "execution_count": null,
      "metadata": {
        "colab": {
          "base_uri": "https://localhost:8080/"
        },
        "id": "b1PAI53hLMMl",
        "outputId": "36e1ea29-8445-428d-95d8-422273c972e0"
      },
      "outputs": [
        {
          "output_type": "stream",
          "name": "stdout",
          "text": [
            "Probability that a student has a height greater than 175 cm: 0.2023\n",
            "Probability that a student has a height between 160 cm and 180 cm: 0.9044\n"
          ]
        }
      ],
      "source": [
        "import scipy.stats as stats\n",
        "mean = 170\n",
        "std_dev = 6\n",
        "\n",
        "z_175 = (175 - mean) / std_dev\n",
        "prob_greater_175 = 1 - stats.norm.cdf(z_175)\n",
        "\n",
        "z_160 = (160 - mean) / std_dev\n",
        "z_180 = (180 - mean) / std_dev\n",
        "prob_between_160_180 = stats.norm.cdf(z_180) - stats.norm.cdf(z_160)\n",
        "\n",
        "print(f\"Probability that a student has a height greater than 175 cm: {prob_greater_175:.4f}\")\n",
        "print(f\"Probability that a student has a height between 160 cm and 180 cm: {prob_between_160_180:.4f}\")\n"
      ]
    },
    {
      "cell_type": "code",
      "source": [
        "import scipy.stats as stats\n",
        "mean = 90\n",
        "std_dev = 15\n",
        "\n",
        "prob_less_than_75 = stats.norm.cdf(75, loc=mean, scale=std_dev)\n",
        "prob_between_85_and_110 = stats.norm.cdf(110, loc=mean, scale=std_dev) - stats.norm.cdf(85, loc=mean, scale=std_dev)\n",
        "\n",
        "print(f\"Probability that a student completes the exam in less than 75 minutes: {prob_less_than_75:.4f}\")\n",
        "print(f\"Probability that a student takes between 85 and 110 minutes to complete the exam: {prob_between_85_and_110:.4f}\")\n"
      ],
      "metadata": {
        "id": "XhxIV0BhY3FI",
        "outputId": "c6fdf237-58b6-4fd4-83ca-e9ccc6a4d622",
        "colab": {
          "base_uri": "https://localhost:8080/"
        }
      },
      "execution_count": 7,
      "outputs": [
        {
          "output_type": "stream",
          "name": "stdout",
          "text": [
            "Probability that a student completes the exam in less than 75 minutes: 0.1587\n",
            "Probability that a student takes between 85 and 110 minutes to complete the exam: 0.5393\n"
          ]
        }
      ]
    }
  ]
}