{
  "nbformat": 4,
  "nbformat_minor": 0,
  "metadata": {
    "colab": {
      "provenance": [],
      "authorship_tag": "ABX9TyPlJHGk+5/Mk/+FSTTppew/",
      "include_colab_link": true
    },
    "kernelspec": {
      "name": "python3",
      "display_name": "Python 3"
    },
    "language_info": {
      "name": "python"
    }
  },
  "cells": [
    {
      "cell_type": "markdown",
      "metadata": {
        "id": "view-in-github",
        "colab_type": "text"
      },
      "source": [
        "<a href=\"https://colab.research.google.com/github/Benny366/ps/blob/main/ps_session_16_act_2.ipynb\" target=\"_parent\"><img src=\"https://colab.research.google.com/assets/colab-badge.svg\" alt=\"Open In Colab\"/></a>"
      ]
    },
    {
      "cell_type": "code",
      "execution_count": 1,
      "metadata": {
        "colab": {
          "base_uri": "https://localhost:8080/"
        },
        "id": "AmvlXzCwNtS_",
        "outputId": "c499fb11-2e55-48d6-d8b7-b7a7845e06d2"
      },
      "outputs": [
        {
          "output_type": "stream",
          "name": "stdout",
          "text": [
            "Probability that a student completes the exam in less than 75 minutes: 0.1587\n",
            "Probability that a student takes between 85 and 110 minutes to complete the exam: 0.5393\n"
          ]
        }
      ],
      "source": [
        "import scipy.stats as stats\n",
        "mean = 90\n",
        "std_dev = 15\n",
        "\n",
        "prob_less_than_75 = stats.norm.cdf(75, loc=mean, scale=std_dev)\n",
        "\n",
        "prob_between_85_and_110 = stats.norm.cdf(110, loc=mean, scale=std_dev) - stats.norm.cdf(85, loc=mean, scale=std_dev)\n",
        "\n",
        "print(f\"Probability that a student completes the exam in less than 75 minutes: {prob_less_than_75:.4f}\")\n",
        "print(f\"Probability that a student takes between 85 and 110 minutes to complete the exam: {prob_between_85_and_110:.4f}\")\n"
      ]
    }
  ]
}